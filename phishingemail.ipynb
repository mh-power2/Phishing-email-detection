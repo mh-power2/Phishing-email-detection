{
 "cells": [
  {
   "cell_type": "code",
   "execution_count": 2,
   "metadata": {},
   "outputs": [],
   "source": [
    "import pandas as pd\n",
    "import numpy as np\n",
    "import matplotlib.pyplot as plt\n",
    "import seaborn as sns\n",
    "from sklearn.feature_extraction.text import TfidfVectorizer\n",
    "from sklearn.pipeline import Pipeline\n",
    "from sklearn.neighbors import KNeighborsClassifier\n",
    "from sklearn.svm import SVC\n",
    "from sklearn.tree import DecisionTreeClassifier\n",
    "from sklearn.ensemble import RandomForestClassifier\n",
    "from sklearn.linear_model import LogisticRegression\n",
    "from sklearn.neural_network import MLPClassifier\n",
    "from tensorflow.keras.preprocessing.text import Tokenizer\n",
    "from tensorflow.keras.layers import Embedding, Conv1D, GlobalMaxPooling1D, Dense, LSTM\n",
    "from tensorflow.keras.utils import pad_sequences\n",
    "from sklearn.preprocessing import LabelEncoder\n",
    "from tensorflow.keras.models import Sequential\n",
    "from tensorflow.keras.layers import Dense,Dropout\n",
    "import tensorflow as tf\n",
    "from sklearn.model_selection import train_test_split\n",
    "from sklearn.metrics import f1_score, accuracy_score, precision_recall_curve, precision_score, recall_score, balanced_accuracy_score, auc, matthews_corrcoef\n",
    "import time\n"
   ]
  },
  {
   "cell_type": "code",
   "execution_count": 3,
   "metadata": {},
   "outputs": [],
   "source": [
    "def get_metrics(y_true, y_pred, y_prob):\n",
    "    f1 = f1_score(y_true=y_true, y_pred=y_pred)\n",
    "    precision  = precision_score(y_true=y_true, y_pred=y_pred)\n",
    "    recall = recall_score(y_true=y_true, y_pred=y_pred)\n",
    "    accuracy = accuracy_score(y_true=y_true, y_pred=y_pred)\n",
    "    balanced_accuracy = balanced_accuracy_score(y_true=y_true, y_pred=y_pred)\n",
    "    MCC = matthews_corrcoef(y_true=y_true, y_pred=y_pred)\n",
    "    print(f\"f1-score = {f1}\\nprecision = {precision}\\nrecall = {recall}\\naccuracy = {accuracy}\\nbalanced-accuracy = {balanced_accuracy}\\nMCC = {MCC}\")"
   ]
  },
  {
   "cell_type": "code",
   "execution_count": 4,
   "metadata": {},
   "outputs": [],
   "source": [
    "# Function to save metrics to Excel\n",
    "def save_metrics_to_excel(metrics, model_name, filename=\"model_metrics.xlsx\"):\n",
    "    try:\n",
    "        existing_df = pd.read_excel(filename)\n",
    "    except FileNotFoundError:\n",
    "        existing_df = pd.DataFrame()\n",
    "\n",
    "    metrics[\"Model\"] = model_name\n",
    "    updated_df = pd.concat([existing_df, pd.DataFrame([metrics])], ignore_index=True)\n",
    "    updated_df.to_excel(filename, index=False)\n",
    "    print(f\"Metrics for {model_name} saved to {filename}\")"
   ]
  },
  {
   "cell_type": "code",
   "execution_count": 5,
   "metadata": {},
   "outputs": [
    {
     "data": {
      "text/html": [
       "<div>\n",
       "<style scoped>\n",
       "    .dataframe tbody tr th:only-of-type {\n",
       "        vertical-align: middle;\n",
       "    }\n",
       "\n",
       "    .dataframe tbody tr th {\n",
       "        vertical-align: top;\n",
       "    }\n",
       "\n",
       "    .dataframe thead th {\n",
       "        text-align: right;\n",
       "    }\n",
       "</style>\n",
       "<table border=\"1\" class=\"dataframe\">\n",
       "  <thead>\n",
       "    <tr style=\"text-align: right;\">\n",
       "      <th></th>\n",
       "      <th>Unnamed: 0</th>\n",
       "      <th>Email Text</th>\n",
       "      <th>Email Type</th>\n",
       "    </tr>\n",
       "  </thead>\n",
       "  <tbody>\n",
       "    <tr>\n",
       "      <th>0</th>\n",
       "      <td>0</td>\n",
       "      <td>re : 6 . 1100 , disc : uniformitarianism , re ...</td>\n",
       "      <td>Safe Email</td>\n",
       "    </tr>\n",
       "    <tr>\n",
       "      <th>1</th>\n",
       "      <td>1</td>\n",
       "      <td>the other side of * galicismos * * galicismo *...</td>\n",
       "      <td>Safe Email</td>\n",
       "    </tr>\n",
       "    <tr>\n",
       "      <th>2</th>\n",
       "      <td>2</td>\n",
       "      <td>re : equistar deal tickets are you still avail...</td>\n",
       "      <td>Safe Email</td>\n",
       "    </tr>\n",
       "    <tr>\n",
       "      <th>3</th>\n",
       "      <td>3</td>\n",
       "      <td>\\nHello I am your hot lil horny toy.\\n    I am...</td>\n",
       "      <td>Phishing Email</td>\n",
       "    </tr>\n",
       "    <tr>\n",
       "      <th>4</th>\n",
       "      <td>4</td>\n",
       "      <td>software at incredibly low prices ( 86 % lower...</td>\n",
       "      <td>Phishing Email</td>\n",
       "    </tr>\n",
       "  </tbody>\n",
       "</table>\n",
       "</div>"
      ],
      "text/plain": [
       "   Unnamed: 0                                         Email Text  \\\n",
       "0           0  re : 6 . 1100 , disc : uniformitarianism , re ...   \n",
       "1           1  the other side of * galicismos * * galicismo *...   \n",
       "2           2  re : equistar deal tickets are you still avail...   \n",
       "3           3  \\nHello I am your hot lil horny toy.\\n    I am...   \n",
       "4           4  software at incredibly low prices ( 86 % lower...   \n",
       "\n",
       "       Email Type  \n",
       "0      Safe Email  \n",
       "1      Safe Email  \n",
       "2      Safe Email  \n",
       "3  Phishing Email  \n",
       "4  Phishing Email  "
      ]
     },
     "execution_count": 5,
     "metadata": {},
     "output_type": "execute_result"
    }
   ],
   "source": [
    "df = pd.read_csv(\"Phishing_Email.csv\")\n",
    "\n",
    "df.head()"
   ]
  },
  {
   "cell_type": "code",
   "execution_count": 6,
   "metadata": {},
   "outputs": [],
   "source": [
    "import re\n",
    "def preprocess_text(text):\n",
    "    \n",
    "    if not isinstance(text, str):\n",
    "        return \"\"\n",
    "\n",
    "    text = re.sub(r'http\\S+', '', text)\n",
    "\n",
    "    # Remove punctuations\n",
    "    text = re.sub(r'[^\\w\\s]', '', text)\n",
    "\n",
    "    # Convert to lowercase\n",
    "    text = text.lower()\n",
    "\n",
    "    # Remove extra spaces\n",
    "    text = re.sub(r'\\s+', ' ', text).strip()\n",
    "    return text\n",
    "\n",
    "\n",
    "df[\"Email Text\"] =df[\"Email Text\"].apply(preprocess_text)"
   ]
  },
  {
   "cell_type": "code",
   "execution_count": 7,
   "metadata": {},
   "outputs": [],
   "source": [
    "le = LabelEncoder()\n",
    "\n",
    "df[\"Email Type\"] = le.fit_transform(df[\"Email Type\"])"
   ]
  },
  {
   "cell_type": "code",
   "execution_count": 8,
   "metadata": {},
   "outputs": [
    {
     "data": {
      "text/plain": [
       "array([30488,    39,    12,   105,    28,   370,    11,    15,     8,\n",
       "        3085,     3,  7413,    13,     3, 10007,   239,  3493,    88,\n",
       "        1522,  3983,     7,    43,   682,    27,    46,   204,  2897,\n",
       "         104,  4639,     6,    13,   171,    54,    42,   103,    27,\n",
       "          46,   126, 30487,     4,    15,     8,   584,     3,  2176,\n",
       "           5,   316,   988, 16255,  1522,  3983,     4,    22,    10,\n",
       "          39,  4891,  4639,     7,   349,    57,  1096,     3,    67,\n",
       "           3,    14,  1846,    98,    30,    12,   105,    28, 25463,\n",
       "           5,  2183,    11,     8,    28,    57,    15,   666,     3,\n",
       "          67,    11,     1,  1522,  1947,   580,    17,   237,     6,\n",
       "           5,  6201,  1287,     2,  2203,    60,   249,  2307,    59,\n",
       "          23,     5,  2445,     3,    75,   675,    22,  1027,     4,\n",
       "        2603,    26,     1,  1367,     2,    29,  5332,  3118,    22,\n",
       "          10,   666,    42,   316,     6,  5037,    88,   768,  2604,\n",
       "         999,    67,    11,  2604,   103,     6,  1511,    88,  2604,\n",
       "          19,  2604,   236,    67,   860,  1058,    85,  3066,  1511,\n",
       "          17,    28,  1603,  2638,  4330,   545])"
      ]
     },
     "execution_count": 8,
     "metadata": {},
     "output_type": "execute_result"
    }
   ],
   "source": [
    "max_len = 150\n",
    "\n",
    "tk = Tokenizer()\n",
    "\n",
    "# Process the text\n",
    "\n",
    "tk.fit_on_texts(df['Email Text'])\n",
    "sequences = tk.texts_to_sequences(df['Email Text'])\n",
    "vector = pad_sequences(sequences,padding='post', maxlen=max_len)\n",
    "vector[0]"
   ]
  },
  {
   "cell_type": "code",
   "execution_count": 34,
   "metadata": {},
   "outputs": [],
   "source": [
    "x = np.array(vector)\n",
    "y = np.array(df[\"Email Type\"])"
   ]
  },
  {
   "cell_type": "code",
   "execution_count": 35,
   "metadata": {},
   "outputs": [],
   "source": [
    "X_train, X_test, y_train, y_test = train_test_split(x, y, test_size= 0.2, shuffle=False)"
   ]
  },
  {
   "cell_type": "markdown",
   "metadata": {},
   "source": [
    "# Logistic Regression"
   ]
  },
  {
   "cell_type": "code",
   "execution_count": 36,
   "metadata": {},
   "outputs": [
    {
     "name": "stdout",
     "output_type": "stream",
     "text": [
      "f1-score = 0.7468955441928415\n",
      "precision = 0.6404635139367366\n",
      "recall = 0.8957512045554096\n",
      "accuracy = 0.6284182305630027\n",
      "balanced-accuracy = 0.5511928102942908\n",
      "MCC = 0.14211489096614727\n",
      "1\n",
      "0.0988779067993164\n"
     ]
    }
   ],
   "source": [
    "model_logis = LogisticRegression()\n",
    "\n",
    "start = time.time()\n",
    "model_logis.fit(X_train, y_train)\n",
    "end = time.time()\n",
    "total_time = end - start\n",
    "y_pred = model_logis.predict(X_test)\n",
    "y_prob = model_logis.predict_proba(X_test)\n",
    "get_metrics(y_true=y_test, y_pred=y_pred, y_prob=y_prob[:,1])\n",
    "print(len(model_logis.coef_))\n",
    "print(total_time)"
   ]
  },
  {
   "cell_type": "markdown",
   "metadata": {},
   "source": [
    "# Random Forest"
   ]
  },
  {
   "cell_type": "code",
   "execution_count": 37,
   "metadata": {},
   "outputs": [
    {
     "name": "stdout",
     "output_type": "stream",
     "text": [
      "f1-score = 0.8338607594936709\n",
      "precision = 0.7601875225387666\n",
      "recall = 0.9233464739378011\n",
      "accuracy = 0.774798927613941\n",
      "balanced-accuracy = 0.7318874733199717\n",
      "MCC = 0.5174442934379464\n",
      "9.40778374671936\n"
     ]
    }
   ],
   "source": [
    "model_logis = RandomForestClassifier()\n",
    "start = time.time()\n",
    "model_logis.fit(X_train, y_train)\n",
    "end = time.time()\n",
    "total_time = end - start\n",
    "\n",
    "y_pred = model_logis.predict(X_test)\n",
    "y_prob = model_logis.predict_proba(X_test)\n",
    "get_metrics(y_true=y_test, y_pred=y_pred, y_prob=y_prob[:,1])\n",
    "\n",
    "print(total_time)"
   ]
  },
  {
   "cell_type": "markdown",
   "metadata": {},
   "source": [
    "# Decision Tree"
   ]
  },
  {
   "cell_type": "code",
   "execution_count": 38,
   "metadata": {},
   "outputs": [
    {
     "name": "stdout",
     "output_type": "stream",
     "text": [
      "f1-score = 0.7396344181899243\n",
      "precision = 0.7530640036314117\n",
      "recall = 0.7266754270696452\n",
      "accuracy = 0.6868632707774799\n",
      "balanced-accuracy = 0.6753625925949469\n",
      "MCC = 0.3475580944116217\n",
      "1.7852561473846436\n"
     ]
    }
   ],
   "source": [
    "model_logis =  DecisionTreeClassifier()\n",
    "start = time.time()\n",
    "model_logis.fit(X_train, y_train)\n",
    "end = time.time()\n",
    "total_time = end - start\n",
    "\n",
    "y_pred = model_logis.predict(X_test)\n",
    "y_prob = model_logis.predict_proba(X_test)\n",
    "get_metrics(y_true=y_test, y_pred=y_pred, y_prob=y_prob[:,1])\n",
    "\n",
    "print(total_time)"
   ]
  },
  {
   "cell_type": "markdown",
   "metadata": {},
   "source": [
    "# KNN"
   ]
  },
  {
   "cell_type": "code",
   "execution_count": 39,
   "metadata": {},
   "outputs": [
    {
     "name": "stdout",
     "output_type": "stream",
     "text": [
      "f1-score = 0.7212830515821413\n",
      "precision = 0.7138567138567139\n",
      "recall = 0.7288655278142795\n",
      "accuracy = 0.6552278820375335\n",
      "balanced-accuracy = 0.6339559152547555\n",
      "MCC = 0.2696491893503193\n",
      "0.0011255741119384766\n"
     ]
    }
   ],
   "source": [
    "model_logis =  KNeighborsClassifier(n_neighbors=5)\n",
    "\n",
    "start = time.time()\n",
    "model_logis.fit(X_train, y_train)\n",
    "end = time.time()\n",
    "total_time = end - start\n",
    "\n",
    "y_pred = model_logis.predict(X_test)\n",
    "y_prob = model_logis.predict_proba(X_test)\n",
    "get_metrics(y_true=y_test, y_pred=y_pred, y_prob=y_prob[:,1])\n",
    "\n",
    "print(total_time)"
   ]
  },
  {
   "cell_type": "markdown",
   "metadata": {},
   "source": [
    "# SVM"
   ]
  },
  {
   "cell_type": "code",
   "execution_count": 40,
   "metadata": {},
   "outputs": [
    {
     "name": "stdout",
     "output_type": "stream",
     "text": [
      "f1-score = 0.7675028079371022\n",
      "precision = 0.6701536449820202\n",
      "recall = 0.8979413053000438\n",
      "accuracy = 0.6670241286863271\n",
      "balanced-accuracy = 0.60031826840676\n",
      "MCC = 0.2545342596921049\n",
      "67.54396796226501\n"
     ]
    }
   ],
   "source": [
    "model_logis = SVC(probability=True)\n",
    "\n",
    "start = time.time()\n",
    "model_logis.fit(X_train, y_train)\n",
    "end = time.time()\n",
    "total_time = end - start\n",
    "\n",
    "y_pred = model_logis.predict(X_test)\n",
    "y_prob = model_logis.predict_proba(X_test)\n",
    "get_metrics(y_true=y_test, y_pred=y_pred, y_prob=y_prob[:,1])\n",
    "\n",
    "print(total_time)"
   ]
  },
  {
   "cell_type": "markdown",
   "metadata": {},
   "source": [
    "# NN"
   ]
  },
  {
   "cell_type": "code",
   "execution_count": 62,
   "metadata": {},
   "outputs": [
    {
     "name": "stdout",
     "output_type": "stream",
     "text": [
      "f1-score = 0.6744711439720682\n",
      "precision = 0.6349574632637278\n",
      "recall = 0.7192290845378887\n",
      "accuracy = 0.5750670241286864\n",
      "balanced-accuracy = 0.5334224206379837\n",
      "MCC = 0.07063628419163222\n",
      "8.939071655273438\n"
     ]
    }
   ],
   "source": [
    "model_logis =  MLPClassifier(hidden_layer_sizes=(30,40,50,20), solver='adam')\n",
    "start = time.time()\n",
    "model_logis.fit(X_train, y_train)\n",
    "end = time.time()\n",
    "total_time = end - start\n",
    "\n",
    "y_pred = model_logis.predict(X_test)\n",
    "y_prob = model_logis.predict_proba(X_test)\n",
    "get_metrics(y_true=y_test, y_pred=y_pred, y_prob=y_prob[:,1])\n",
    "\n",
    "print(total_time)"
   ]
  },
  {
   "cell_type": "markdown",
   "metadata": {},
   "source": [
    "# LSTM ARCH\n"
   ]
  },
  {
   "cell_type": "code",
   "execution_count": 41,
   "metadata": {},
   "outputs": [
    {
     "name": "stderr",
     "output_type": "stream",
     "text": [
      "/home/maaf/myenv/lib/python3.11/site-packages/keras/src/layers/core/embedding.py:90: UserWarning: Argument `input_length` is deprecated. Just remove it.\n",
      "  warnings.warn(\n",
      "2024-12-17 15:59:19.191433: I external/local_xla/xla/stream_executor/cuda/cuda_executor.cc:998] successful NUMA node read from SysFS had negative value (-1), but there must be at least one NUMA node, so returning NUMA node zero. See more at https://github.com/torvalds/linux/blob/v6.0/Documentation/ABI/testing/sysfs-bus-pci#L344-L355\n",
      "2024-12-17 15:59:19.353902: W tensorflow/core/common_runtime/gpu/gpu_device.cc:2251] Cannot dlopen some GPU libraries. Please make sure the missing libraries mentioned above are installed properly if you would like to use GPU. Follow the guide at https://www.tensorflow.org/install/gpu for how to download and setup the required libraries for your platform.\n",
      "Skipping registering GPU devices...\n"
     ]
    }
   ],
   "source": [
    "model = Sequential() # Sequential() API\n",
    "model.add(Embedding(input_dim=len(tk.word_index)+1,output_dim=50,input_length=150))\n",
    "model.add(LSTM(units=100))\n",
    "model.add(Dropout(0.5))\n",
    "model.add(Dense(1, activation='sigmoid'))\n"
   ]
  },
  {
   "cell_type": "code",
   "execution_count": 42,
   "metadata": {},
   "outputs": [],
   "source": [
    "model.compile(loss='binary_crossentropy' , optimizer='adam', metrics=['accuracy'])"
   ]
  },
  {
   "cell_type": "code",
   "execution_count": 43,
   "metadata": {},
   "outputs": [
    {
     "data": {
      "text/html": [
       "<pre style=\"white-space:pre;overflow-x:auto;line-height:normal;font-family:Menlo,'DejaVu Sans Mono',consolas,'Courier New',monospace\"><span style=\"font-weight: bold\">Model: \"sequential\"</span>\n",
       "</pre>\n"
      ],
      "text/plain": [
       "\u001b[1mModel: \"sequential\"\u001b[0m\n"
      ]
     },
     "metadata": {},
     "output_type": "display_data"
    },
    {
     "data": {
      "text/html": [
       "<pre style=\"white-space:pre;overflow-x:auto;line-height:normal;font-family:Menlo,'DejaVu Sans Mono',consolas,'Courier New',monospace\">┏━━━━━━━━━━━━━━━━━━━━━━━━━━━━━━━━━┳━━━━━━━━━━━━━━━━━━━━━━━━┳━━━━━━━━━━━━━━━┓\n",
       "┃<span style=\"font-weight: bold\"> Layer (type)                    </span>┃<span style=\"font-weight: bold\"> Output Shape           </span>┃<span style=\"font-weight: bold\">       Param # </span>┃\n",
       "┡━━━━━━━━━━━━━━━━━━━━━━━━━━━━━━━━━╇━━━━━━━━━━━━━━━━━━━━━━━━╇━━━━━━━━━━━━━━━┩\n",
       "│ embedding (<span style=\"color: #0087ff; text-decoration-color: #0087ff\">Embedding</span>)           │ ?                      │   <span style=\"color: #00af00; text-decoration-color: #00af00\">0</span> (unbuilt) │\n",
       "├─────────────────────────────────┼────────────────────────┼───────────────┤\n",
       "│ lstm (<span style=\"color: #0087ff; text-decoration-color: #0087ff\">LSTM</span>)                     │ ?                      │   <span style=\"color: #00af00; text-decoration-color: #00af00\">0</span> (unbuilt) │\n",
       "├─────────────────────────────────┼────────────────────────┼───────────────┤\n",
       "│ dropout (<span style=\"color: #0087ff; text-decoration-color: #0087ff\">Dropout</span>)               │ ?                      │   <span style=\"color: #00af00; text-decoration-color: #00af00\">0</span> (unbuilt) │\n",
       "├─────────────────────────────────┼────────────────────────┼───────────────┤\n",
       "│ dense (<span style=\"color: #0087ff; text-decoration-color: #0087ff\">Dense</span>)                   │ ?                      │   <span style=\"color: #00af00; text-decoration-color: #00af00\">0</span> (unbuilt) │\n",
       "└─────────────────────────────────┴────────────────────────┴───────────────┘\n",
       "</pre>\n"
      ],
      "text/plain": [
       "┏━━━━━━━━━━━━━━━━━━━━━━━━━━━━━━━━━┳━━━━━━━━━━━━━━━━━━━━━━━━┳━━━━━━━━━━━━━━━┓\n",
       "┃\u001b[1m \u001b[0m\u001b[1mLayer (type)                   \u001b[0m\u001b[1m \u001b[0m┃\u001b[1m \u001b[0m\u001b[1mOutput Shape          \u001b[0m\u001b[1m \u001b[0m┃\u001b[1m \u001b[0m\u001b[1m      Param #\u001b[0m\u001b[1m \u001b[0m┃\n",
       "┡━━━━━━━━━━━━━━━━━━━━━━━━━━━━━━━━━╇━━━━━━━━━━━━━━━━━━━━━━━━╇━━━━━━━━━━━━━━━┩\n",
       "│ embedding (\u001b[38;5;33mEmbedding\u001b[0m)           │ ?                      │   \u001b[38;5;34m0\u001b[0m (unbuilt) │\n",
       "├─────────────────────────────────┼────────────────────────┼───────────────┤\n",
       "│ lstm (\u001b[38;5;33mLSTM\u001b[0m)                     │ ?                      │   \u001b[38;5;34m0\u001b[0m (unbuilt) │\n",
       "├─────────────────────────────────┼────────────────────────┼───────────────┤\n",
       "│ dropout (\u001b[38;5;33mDropout\u001b[0m)               │ ?                      │   \u001b[38;5;34m0\u001b[0m (unbuilt) │\n",
       "├─────────────────────────────────┼────────────────────────┼───────────────┤\n",
       "│ dense (\u001b[38;5;33mDense\u001b[0m)                   │ ?                      │   \u001b[38;5;34m0\u001b[0m (unbuilt) │\n",
       "└─────────────────────────────────┴────────────────────────┴───────────────┘\n"
      ]
     },
     "metadata": {},
     "output_type": "display_data"
    },
    {
     "data": {
      "text/html": [
       "<pre style=\"white-space:pre;overflow-x:auto;line-height:normal;font-family:Menlo,'DejaVu Sans Mono',consolas,'Courier New',monospace\"><span style=\"font-weight: bold\"> Total params: </span><span style=\"color: #00af00; text-decoration-color: #00af00\">0</span> (0.00 B)\n",
       "</pre>\n"
      ],
      "text/plain": [
       "\u001b[1m Total params: \u001b[0m\u001b[38;5;34m0\u001b[0m (0.00 B)\n"
      ]
     },
     "metadata": {},
     "output_type": "display_data"
    },
    {
     "data": {
      "text/html": [
       "<pre style=\"white-space:pre;overflow-x:auto;line-height:normal;font-family:Menlo,'DejaVu Sans Mono',consolas,'Courier New',monospace\"><span style=\"font-weight: bold\"> Trainable params: </span><span style=\"color: #00af00; text-decoration-color: #00af00\">0</span> (0.00 B)\n",
       "</pre>\n"
      ],
      "text/plain": [
       "\u001b[1m Trainable params: \u001b[0m\u001b[38;5;34m0\u001b[0m (0.00 B)\n"
      ]
     },
     "metadata": {},
     "output_type": "display_data"
    },
    {
     "data": {
      "text/html": [
       "<pre style=\"white-space:pre;overflow-x:auto;line-height:normal;font-family:Menlo,'DejaVu Sans Mono',consolas,'Courier New',monospace\"><span style=\"font-weight: bold\"> Non-trainable params: </span><span style=\"color: #00af00; text-decoration-color: #00af00\">0</span> (0.00 B)\n",
       "</pre>\n"
      ],
      "text/plain": [
       "\u001b[1m Non-trainable params: \u001b[0m\u001b[38;5;34m0\u001b[0m (0.00 B)\n"
      ]
     },
     "metadata": {},
     "output_type": "display_data"
    }
   ],
   "source": [
    "model.summary()"
   ]
  },
  {
   "cell_type": "code",
   "execution_count": null,
   "metadata": {},
   "outputs": [
    {
     "name": "stdout",
     "output_type": "stream",
     "text": [
      "Epoch 1/40\n",
      "\u001b[1m933/933\u001b[0m \u001b[32m━━━━━━━━━━━━━━━━━━━━\u001b[0m\u001b[37m\u001b[0m \u001b[1m46s\u001b[0m 48ms/step - accuracy: 0.6607 - loss: 0.6155 - val_accuracy: 0.8684 - val_loss: 0.3439\n",
      "Epoch 2/40\n",
      "\u001b[1m933/933\u001b[0m \u001b[32m━━━━━━━━━━━━━━━━━━━━\u001b[0m\u001b[37m\u001b[0m \u001b[1m44s\u001b[0m 47ms/step - accuracy: 0.8057 - loss: 0.4861 - val_accuracy: 0.9145 - val_loss: 0.2638\n",
      "Epoch 3/40\n",
      "\u001b[1m933/933\u001b[0m \u001b[32m━━━━━━━━━━━━━━━━━━━━\u001b[0m\u001b[37m\u001b[0m \u001b[1m44s\u001b[0m 47ms/step - accuracy: 0.9257 - loss: 0.2168 - val_accuracy: 0.9440 - val_loss: 0.1544\n",
      "Epoch 4/40\n",
      "\u001b[1m933/933\u001b[0m \u001b[32m━━━━━━━━━━━━━━━━━━━━\u001b[0m\u001b[37m\u001b[0m \u001b[1m44s\u001b[0m 47ms/step - accuracy: 0.9371 - loss: 0.1640 - val_accuracy: 0.9504 - val_loss: 0.1293\n",
      "Epoch 5/40\n",
      "\u001b[1m933/933\u001b[0m \u001b[32m━━━━━━━━━━━━━━━━━━━━\u001b[0m\u001b[37m\u001b[0m \u001b[1m45s\u001b[0m 48ms/step - accuracy: 0.9755 - loss: 0.0718 - val_accuracy: 0.9622 - val_loss: 0.1067\n",
      "Epoch 6/40\n",
      "\u001b[1m933/933\u001b[0m \u001b[32m━━━━━━━━━━━━━━━━━━━━\u001b[0m\u001b[37m\u001b[0m \u001b[1m44s\u001b[0m 47ms/step - accuracy: 0.9837 - loss: 0.0449 - val_accuracy: 0.9622 - val_loss: 0.1114\n",
      "Epoch 7/40\n",
      "\u001b[1m933/933\u001b[0m \u001b[32m━━━━━━━━━━━━━━━━━━━━\u001b[0m\u001b[37m\u001b[0m \u001b[1m45s\u001b[0m 48ms/step - accuracy: 0.9870 - loss: 0.0308 - val_accuracy: 0.9627 - val_loss: 0.1122\n",
      "Epoch 8/40\n",
      "\u001b[1m933/933\u001b[0m \u001b[32m━━━━━━━━━━━━━━━━━━━━\u001b[0m\u001b[37m\u001b[0m \u001b[1m45s\u001b[0m 48ms/step - accuracy: 0.9811 - loss: 0.0459 - val_accuracy: 0.9627 - val_loss: 0.1152\n",
      "Epoch 9/40\n",
      "\u001b[1m933/933\u001b[0m \u001b[32m━━━━━━━━━━━━━━━━━━━━\u001b[0m\u001b[37m\u001b[0m \u001b[1m46s\u001b[0m 49ms/step - accuracy: 0.9891 - loss: 0.0290 - val_accuracy: 0.9611 - val_loss: 0.1184\n",
      "Epoch 10/40\n",
      "\u001b[1m933/933\u001b[0m \u001b[32m━━━━━━━━━━━━━━━━━━━━\u001b[0m\u001b[37m\u001b[0m \u001b[1m45s\u001b[0m 48ms/step - accuracy: 0.9844 - loss: 0.0330 - val_accuracy: 0.9660 - val_loss: 0.1152\n",
      "Epoch 11/40\n",
      "\u001b[1m933/933\u001b[0m \u001b[32m━━━━━━━━━━━━━━━━━━━━\u001b[0m\u001b[37m\u001b[0m \u001b[1m45s\u001b[0m 49ms/step - accuracy: 0.9901 - loss: 0.0208 - val_accuracy: 0.9651 - val_loss: 0.1094\n",
      "Epoch 12/40\n",
      "\u001b[1m933/933\u001b[0m \u001b[32m━━━━━━━━━━━━━━━━━━━━\u001b[0m\u001b[37m\u001b[0m \u001b[1m46s\u001b[0m 49ms/step - accuracy: 0.9866 - loss: 0.0258 - val_accuracy: 0.9635 - val_loss: 0.1162\n",
      "Epoch 13/40\n",
      "\u001b[1m933/933\u001b[0m \u001b[32m━━━━━━━━━━━━━━━━━━━━\u001b[0m\u001b[37m\u001b[0m \u001b[1m46s\u001b[0m 49ms/step - accuracy: 0.9879 - loss: 0.0232 - val_accuracy: 0.9633 - val_loss: 0.1258\n",
      "Epoch 14/40\n",
      "\u001b[1m933/933\u001b[0m \u001b[32m━━━━━━━━━━━━━━━━━━━━\u001b[0m\u001b[37m\u001b[0m \u001b[1m45s\u001b[0m 49ms/step - accuracy: 0.9876 - loss: 0.0229 - val_accuracy: 0.9603 - val_loss: 0.1482\n",
      "Epoch 15/40\n",
      "\u001b[1m933/933\u001b[0m \u001b[32m━━━━━━━━━━━━━━━━━━━━\u001b[0m\u001b[37m\u001b[0m \u001b[1m46s\u001b[0m 49ms/step - accuracy: 0.9887 - loss: 0.0241 - val_accuracy: 0.9611 - val_loss: 0.1557\n",
      "Epoch 16/40\n",
      "\u001b[1m933/933\u001b[0m \u001b[32m━━━━━━━━━━━━━━━━━━━━\u001b[0m\u001b[37m\u001b[0m \u001b[1m46s\u001b[0m 49ms/step - accuracy: 0.9881 - loss: 0.0210 - val_accuracy: 0.9531 - val_loss: 0.1655\n",
      "Epoch 17/40\n",
      "\u001b[1m933/933\u001b[0m \u001b[32m━━━━━━━━━━━━━━━━━━━━\u001b[0m\u001b[37m\u001b[0m \u001b[1m46s\u001b[0m 50ms/step - accuracy: 0.9882 - loss: 0.0253 - val_accuracy: 0.9611 - val_loss: 0.1787\n",
      "Epoch 18/40\n",
      "\u001b[1m933/933\u001b[0m \u001b[32m━━━━━━━━━━━━━━━━━━━━\u001b[0m\u001b[37m\u001b[0m \u001b[1m45s\u001b[0m 49ms/step - accuracy: 0.9883 - loss: 0.0213 - val_accuracy: 0.9635 - val_loss: 0.1862\n",
      "Epoch 19/40\n",
      "\u001b[1m933/933\u001b[0m \u001b[32m━━━━━━━━━━━━━━━━━━━━\u001b[0m\u001b[37m\u001b[0m \u001b[1m45s\u001b[0m 48ms/step - accuracy: 0.9899 - loss: 0.0197 - val_accuracy: 0.9630 - val_loss: 0.2192\n",
      "Epoch 20/40\n",
      "\u001b[1m933/933\u001b[0m \u001b[32m━━━━━━━━━━━━━━━━━━━━\u001b[0m\u001b[37m\u001b[0m \u001b[1m46s\u001b[0m 49ms/step - accuracy: 0.9905 - loss: 0.0192 - val_accuracy: 0.9646 - val_loss: 0.2132\n",
      "Epoch 21/40\n",
      "\u001b[1m933/933\u001b[0m \u001b[32m━━━━━━━━━━━━━━━━━━━━\u001b[0m\u001b[37m\u001b[0m \u001b[1m46s\u001b[0m 49ms/step - accuracy: 0.9897 - loss: 0.0189 - val_accuracy: 0.9611 - val_loss: 0.1812\n",
      "Epoch 22/40\n",
      "\u001b[1m933/933\u001b[0m \u001b[32m━━━━━━━━━━━━━━━━━━━━\u001b[0m\u001b[37m\u001b[0m \u001b[1m46s\u001b[0m 49ms/step - accuracy: 0.9889 - loss: 0.0219 - val_accuracy: 0.9619 - val_loss: 0.1573\n",
      "Epoch 23/40\n",
      "\u001b[1m933/933\u001b[0m \u001b[32m━━━━━━━━━━━━━━━━━━━━\u001b[0m\u001b[37m\u001b[0m \u001b[1m46s\u001b[0m 49ms/step - accuracy: 0.9886 - loss: 0.0220 - val_accuracy: 0.9635 - val_loss: 0.1873\n",
      "Epoch 24/40\n",
      "\u001b[1m933/933\u001b[0m \u001b[32m━━━━━━━━━━━━━━━━━━━━\u001b[0m\u001b[37m\u001b[0m \u001b[1m45s\u001b[0m 48ms/step - accuracy: 0.9910 - loss: 0.0189 - val_accuracy: 0.9643 - val_loss: 0.1758\n",
      "Epoch 25/40\n",
      "\u001b[1m933/933\u001b[0m \u001b[32m━━━━━━━━━━━━━━━━━━━━\u001b[0m\u001b[37m\u001b[0m \u001b[1m46s\u001b[0m 49ms/step - accuracy: 0.9899 - loss: 0.0193 - val_accuracy: 0.9660 - val_loss: 0.1826\n",
      "Epoch 26/40\n",
      "\u001b[1m933/933\u001b[0m \u001b[32m━━━━━━━━━━━━━━━━━━━━\u001b[0m\u001b[37m\u001b[0m \u001b[1m46s\u001b[0m 49ms/step - accuracy: 0.9898 - loss: 0.0192 - val_accuracy: 0.9458 - val_loss: 0.2898\n",
      "Epoch 27/40\n",
      "\u001b[1m933/933\u001b[0m \u001b[32m━━━━━━━━━━━━━━━━━━━━\u001b[0m\u001b[37m\u001b[0m \u001b[1m46s\u001b[0m 49ms/step - accuracy: 0.9899 - loss: 0.0207 - val_accuracy: 0.9606 - val_loss: 0.2074\n",
      "Epoch 28/40\n",
      "\u001b[1m933/933\u001b[0m \u001b[32m━━━━━━━━━━━━━━━━━━━━\u001b[0m\u001b[37m\u001b[0m \u001b[1m45s\u001b[0m 49ms/step - accuracy: 0.9881 - loss: 0.0216 - val_accuracy: 0.9635 - val_loss: 0.1927\n",
      "Epoch 29/40\n",
      "\u001b[1m933/933\u001b[0m \u001b[32m━━━━━━━━━━━━━━━━━━━━\u001b[0m\u001b[37m\u001b[0m \u001b[1m46s\u001b[0m 49ms/step - accuracy: 0.9904 - loss: 0.0199 - val_accuracy: 0.9571 - val_loss: 0.1736\n",
      "Epoch 30/40\n",
      "\u001b[1m933/933\u001b[0m \u001b[32m━━━━━━━━━━━━━━━━━━━━\u001b[0m\u001b[37m\u001b[0m \u001b[1m46s\u001b[0m 49ms/step - accuracy: 0.9883 - loss: 0.0197 - val_accuracy: 0.9638 - val_loss: 0.1510\n",
      "Epoch 31/40\n",
      "\u001b[1m933/933\u001b[0m \u001b[32m━━━━━━━━━━━━━━━━━━━━\u001b[0m\u001b[37m\u001b[0m \u001b[1m45s\u001b[0m 48ms/step - accuracy: 0.9884 - loss: 0.0209 - val_accuracy: 0.9611 - val_loss: 0.1734\n",
      "Epoch 32/40\n",
      "\u001b[1m933/933\u001b[0m \u001b[32m━━━━━━━━━━━━━━━━━━━━\u001b[0m\u001b[37m\u001b[0m \u001b[1m46s\u001b[0m 49ms/step - accuracy: 0.9891 - loss: 0.0217 - val_accuracy: 0.9619 - val_loss: 0.1727\n",
      "Epoch 33/40\n",
      "\u001b[1m933/933\u001b[0m \u001b[32m━━━━━━━━━━━━━━━━━━━━\u001b[0m\u001b[37m\u001b[0m \u001b[1m46s\u001b[0m 49ms/step - accuracy: 0.9908 - loss: 0.0188 - val_accuracy: 0.9619 - val_loss: 0.1990\n",
      "Epoch 34/40\n",
      "\u001b[1m933/933\u001b[0m \u001b[32m━━━━━━━━━━━━━━━━━━━━\u001b[0m\u001b[37m\u001b[0m \u001b[1m45s\u001b[0m 49ms/step - accuracy: 0.9905 - loss: 0.0181 - val_accuracy: 0.9619 - val_loss: 0.2088\n",
      "Epoch 35/40\n",
      "\u001b[1m933/933\u001b[0m \u001b[32m━━━━━━━━━━━━━━━━━━━━\u001b[0m\u001b[37m\u001b[0m \u001b[1m46s\u001b[0m 49ms/step - accuracy: 0.9899 - loss: 0.0189 - val_accuracy: 0.9627 - val_loss: 0.2055\n",
      "Epoch 36/40\n",
      "\u001b[1m933/933\u001b[0m \u001b[32m━━━━━━━━━━━━━━━━━━━━\u001b[0m\u001b[37m\u001b[0m \u001b[1m45s\u001b[0m 49ms/step - accuracy: 0.9893 - loss: 0.0197 - val_accuracy: 0.9617 - val_loss: 0.2299\n",
      "Epoch 37/40\n",
      "\u001b[1m933/933\u001b[0m \u001b[32m━━━━━━━━━━━━━━━━━━━━\u001b[0m\u001b[37m\u001b[0m \u001b[1m45s\u001b[0m 49ms/step - accuracy: 0.9906 - loss: 0.0183 - val_accuracy: 0.9630 - val_loss: 0.2261\n",
      "Epoch 38/40\n",
      "\u001b[1m933/933\u001b[0m \u001b[32m━━━━━━━━━━━━━━━━━━━━\u001b[0m\u001b[37m\u001b[0m \u001b[1m46s\u001b[0m 49ms/step - accuracy: 0.9908 - loss: 0.0191 - val_accuracy: 0.9630 - val_loss: 0.2204\n",
      "Epoch 39/40\n",
      "\u001b[1m933/933\u001b[0m \u001b[32m━━━━━━━━━━━━━━━━━━━━\u001b[0m\u001b[37m\u001b[0m \u001b[1m46s\u001b[0m 49ms/step - accuracy: 0.9909 - loss: 0.0186 - val_accuracy: 0.9635 - val_loss: 0.2421\n",
      "Epoch 40/40\n",
      "\u001b[1m933/933\u001b[0m \u001b[32m━━━━━━━━━━━━━━━━━━━━\u001b[0m\u001b[37m\u001b[0m \u001b[1m46s\u001b[0m 49ms/step - accuracy: 0.9900 - loss: 0.0183 - val_accuracy: 0.9638 - val_loss: 0.2353\n",
      "total time = 1814.797532081604\n"
     ]
    }
   ],
   "source": [
    "start = time.time()\n",
    "\n",
    "historical  = model.fit(X_train,y_train, epochs=40, batch_size=16, validation_data=(X_test,y_test))\n",
    "end = time.time()\n",
    "print(f\"total time = {end - start}\")"
   ]
  },
  {
   "cell_type": "code",
   "execution_count": 45,
   "metadata": {},
   "outputs": [
    {
     "name": "stdout",
     "output_type": "stream",
     "text": [
      "\u001b[1m117/117\u001b[0m \u001b[32m━━━━━━━━━━━━━━━━━━━━\u001b[0m\u001b[37m\u001b[0m \u001b[1m1s\u001b[0m 10ms/step - accuracy: 0.9632 - loss: 0.2784\n",
      "Model Loss: 0.23527483642101288\n",
      "Model Accuracy: 96.38069868087769\n"
     ]
    }
   ],
   "source": [
    "results = model.evaluate(X_test, y_test)\n",
    "loss = results[0]  # Extract the loss from the results\n",
    "accuracy = results[1]  # Extract the accuracy from the results\n",
    "\n",
    "print(f\"Model Loss: {loss}\")\n",
    "print(f\"Model Accuracy: {accuracy*100}\")"
   ]
  },
  {
   "cell_type": "code",
   "execution_count": 46,
   "metadata": {},
   "outputs": [
    {
     "name": "stdout",
     "output_type": "stream",
     "text": [
      "\u001b[1m117/117\u001b[0m \u001b[32m━━━━━━━━━━━━━━━━━━━━\u001b[0m\u001b[37m\u001b[0m \u001b[1m1s\u001b[0m 10ms/step\n"
     ]
    }
   ],
   "source": [
    "y_pred_prob = model.predict(X_test)\n",
    "y_pred = (y_pred_prob > 0.5).astype(int)"
   ]
  },
  {
   "cell_type": "code",
   "execution_count": 47,
   "metadata": {},
   "outputs": [
    {
     "name": "stdout",
     "output_type": "stream",
     "text": [
      "f1-score = 0.9702183984116479\n",
      "precision = 0.9773333333333334\n",
      "recall = 0.9632063074901446\n",
      "accuracy = 0.9638069705093834\n",
      "balanced-accuracy = 0.963980486156959\n",
      "MCC = 0.9242613997616788\n"
     ]
    }
   ],
   "source": [
    "\n",
    "get_metrics(y_true=y_test, y_pred=y_pred, y_prob=y_pred_prob)"
   ]
  },
  {
   "cell_type": "markdown",
   "metadata": {},
   "source": [
    "# CNN"
   ]
  },
  {
   "cell_type": "code",
   "execution_count": 48,
   "metadata": {},
   "outputs": [
    {
     "name": "stderr",
     "output_type": "stream",
     "text": [
      "/home/maaf/myenv/lib/python3.11/site-packages/keras/src/layers/core/embedding.py:90: UserWarning: Argument `input_length` is deprecated. Just remove it.\n",
      "  warnings.warn(\n"
     ]
    }
   ],
   "source": [
    "model = Sequential() # Sequential() API\n",
    "model.add(Embedding(input_dim=len(tk.word_index)+1,output_dim=50,input_length=150))\n",
    "model.add(Conv1D(128, 5, activation='relu'))\n",
    "model.add(GlobalMaxPooling1D())\n",
    "model.add(Dense(64, activation='relu'))\n",
    "model.add(Dense(1, activation='sigmoid'))\n",
    "\n",
    "model.compile(loss='binary_crossentropy' , optimizer='adam', metrics=['accuracy'])\n"
   ]
  },
  {
   "cell_type": "code",
   "execution_count": 49,
   "metadata": {},
   "outputs": [
    {
     "data": {
      "text/html": [
       "<pre style=\"white-space:pre;overflow-x:auto;line-height:normal;font-family:Menlo,'DejaVu Sans Mono',consolas,'Courier New',monospace\"><span style=\"font-weight: bold\">Model: \"sequential_1\"</span>\n",
       "</pre>\n"
      ],
      "text/plain": [
       "\u001b[1mModel: \"sequential_1\"\u001b[0m\n"
      ]
     },
     "metadata": {},
     "output_type": "display_data"
    },
    {
     "data": {
      "text/html": [
       "<pre style=\"white-space:pre;overflow-x:auto;line-height:normal;font-family:Menlo,'DejaVu Sans Mono',consolas,'Courier New',monospace\">┏━━━━━━━━━━━━━━━━━━━━━━━━━━━━━━━━━┳━━━━━━━━━━━━━━━━━━━━━━━━┳━━━━━━━━━━━━━━━┓\n",
       "┃<span style=\"font-weight: bold\"> Layer (type)                    </span>┃<span style=\"font-weight: bold\"> Output Shape           </span>┃<span style=\"font-weight: bold\">       Param # </span>┃\n",
       "┡━━━━━━━━━━━━━━━━━━━━━━━━━━━━━━━━━╇━━━━━━━━━━━━━━━━━━━━━━━━╇━━━━━━━━━━━━━━━┩\n",
       "│ embedding_1 (<span style=\"color: #0087ff; text-decoration-color: #0087ff\">Embedding</span>)         │ ?                      │   <span style=\"color: #00af00; text-decoration-color: #00af00\">0</span> (unbuilt) │\n",
       "├─────────────────────────────────┼────────────────────────┼───────────────┤\n",
       "│ conv1d (<span style=\"color: #0087ff; text-decoration-color: #0087ff\">Conv1D</span>)                 │ ?                      │   <span style=\"color: #00af00; text-decoration-color: #00af00\">0</span> (unbuilt) │\n",
       "├─────────────────────────────────┼────────────────────────┼───────────────┤\n",
       "│ global_max_pooling1d            │ ?                      │   <span style=\"color: #00af00; text-decoration-color: #00af00\">0</span> (unbuilt) │\n",
       "│ (<span style=\"color: #0087ff; text-decoration-color: #0087ff\">GlobalMaxPooling1D</span>)            │                        │               │\n",
       "├─────────────────────────────────┼────────────────────────┼───────────────┤\n",
       "│ dense_1 (<span style=\"color: #0087ff; text-decoration-color: #0087ff\">Dense</span>)                 │ ?                      │   <span style=\"color: #00af00; text-decoration-color: #00af00\">0</span> (unbuilt) │\n",
       "├─────────────────────────────────┼────────────────────────┼───────────────┤\n",
       "│ dense_2 (<span style=\"color: #0087ff; text-decoration-color: #0087ff\">Dense</span>)                 │ ?                      │   <span style=\"color: #00af00; text-decoration-color: #00af00\">0</span> (unbuilt) │\n",
       "└─────────────────────────────────┴────────────────────────┴───────────────┘\n",
       "</pre>\n"
      ],
      "text/plain": [
       "┏━━━━━━━━━━━━━━━━━━━━━━━━━━━━━━━━━┳━━━━━━━━━━━━━━━━━━━━━━━━┳━━━━━━━━━━━━━━━┓\n",
       "┃\u001b[1m \u001b[0m\u001b[1mLayer (type)                   \u001b[0m\u001b[1m \u001b[0m┃\u001b[1m \u001b[0m\u001b[1mOutput Shape          \u001b[0m\u001b[1m \u001b[0m┃\u001b[1m \u001b[0m\u001b[1m      Param #\u001b[0m\u001b[1m \u001b[0m┃\n",
       "┡━━━━━━━━━━━━━━━━━━━━━━━━━━━━━━━━━╇━━━━━━━━━━━━━━━━━━━━━━━━╇━━━━━━━━━━━━━━━┩\n",
       "│ embedding_1 (\u001b[38;5;33mEmbedding\u001b[0m)         │ ?                      │   \u001b[38;5;34m0\u001b[0m (unbuilt) │\n",
       "├─────────────────────────────────┼────────────────────────┼───────────────┤\n",
       "│ conv1d (\u001b[38;5;33mConv1D\u001b[0m)                 │ ?                      │   \u001b[38;5;34m0\u001b[0m (unbuilt) │\n",
       "├─────────────────────────────────┼────────────────────────┼───────────────┤\n",
       "│ global_max_pooling1d            │ ?                      │   \u001b[38;5;34m0\u001b[0m (unbuilt) │\n",
       "│ (\u001b[38;5;33mGlobalMaxPooling1D\u001b[0m)            │                        │               │\n",
       "├─────────────────────────────────┼────────────────────────┼───────────────┤\n",
       "│ dense_1 (\u001b[38;5;33mDense\u001b[0m)                 │ ?                      │   \u001b[38;5;34m0\u001b[0m (unbuilt) │\n",
       "├─────────────────────────────────┼────────────────────────┼───────────────┤\n",
       "│ dense_2 (\u001b[38;5;33mDense\u001b[0m)                 │ ?                      │   \u001b[38;5;34m0\u001b[0m (unbuilt) │\n",
       "└─────────────────────────────────┴────────────────────────┴───────────────┘\n"
      ]
     },
     "metadata": {},
     "output_type": "display_data"
    },
    {
     "data": {
      "text/html": [
       "<pre style=\"white-space:pre;overflow-x:auto;line-height:normal;font-family:Menlo,'DejaVu Sans Mono',consolas,'Courier New',monospace\"><span style=\"font-weight: bold\"> Total params: </span><span style=\"color: #00af00; text-decoration-color: #00af00\">0</span> (0.00 B)\n",
       "</pre>\n"
      ],
      "text/plain": [
       "\u001b[1m Total params: \u001b[0m\u001b[38;5;34m0\u001b[0m (0.00 B)\n"
      ]
     },
     "metadata": {},
     "output_type": "display_data"
    },
    {
     "data": {
      "text/html": [
       "<pre style=\"white-space:pre;overflow-x:auto;line-height:normal;font-family:Menlo,'DejaVu Sans Mono',consolas,'Courier New',monospace\"><span style=\"font-weight: bold\"> Trainable params: </span><span style=\"color: #00af00; text-decoration-color: #00af00\">0</span> (0.00 B)\n",
       "</pre>\n"
      ],
      "text/plain": [
       "\u001b[1m Trainable params: \u001b[0m\u001b[38;5;34m0\u001b[0m (0.00 B)\n"
      ]
     },
     "metadata": {},
     "output_type": "display_data"
    },
    {
     "data": {
      "text/html": [
       "<pre style=\"white-space:pre;overflow-x:auto;line-height:normal;font-family:Menlo,'DejaVu Sans Mono',consolas,'Courier New',monospace\"><span style=\"font-weight: bold\"> Non-trainable params: </span><span style=\"color: #00af00; text-decoration-color: #00af00\">0</span> (0.00 B)\n",
       "</pre>\n"
      ],
      "text/plain": [
       "\u001b[1m Non-trainable params: \u001b[0m\u001b[38;5;34m0\u001b[0m (0.00 B)\n"
      ]
     },
     "metadata": {},
     "output_type": "display_data"
    }
   ],
   "source": [
    "model.summary()"
   ]
  },
  {
   "cell_type": "code",
   "execution_count": 50,
   "metadata": {},
   "outputs": [
    {
     "name": "stdout",
     "output_type": "stream",
     "text": [
      "Epoch 1/40\n",
      "\u001b[1m933/933\u001b[0m \u001b[32m━━━━━━━━━━━━━━━━━━━━\u001b[0m\u001b[37m\u001b[0m \u001b[1m31s\u001b[0m 33ms/step - accuracy: 0.8209 - loss: 0.3371 - val_accuracy: 0.9638 - val_loss: 0.0903\n",
      "Epoch 2/40\n",
      "\u001b[1m933/933\u001b[0m \u001b[32m━━━━━━━━━━━━━━━━━━━━\u001b[0m\u001b[37m\u001b[0m \u001b[1m30s\u001b[0m 32ms/step - accuracy: 0.9835 - loss: 0.0386 - val_accuracy: 0.9660 - val_loss: 0.0873\n",
      "Epoch 3/40\n",
      "\u001b[1m933/933\u001b[0m \u001b[32m━━━━━━━━━━━━━━━━━━━━\u001b[0m\u001b[37m\u001b[0m \u001b[1m30s\u001b[0m 32ms/step - accuracy: 0.9885 - loss: 0.0211 - val_accuracy: 0.9676 - val_loss: 0.0924\n",
      "Epoch 4/40\n",
      "\u001b[1m933/933\u001b[0m \u001b[32m━━━━━━━━━━━━━━━━━━━━\u001b[0m\u001b[37m\u001b[0m \u001b[1m30s\u001b[0m 32ms/step - accuracy: 0.9888 - loss: 0.0204 - val_accuracy: 0.9654 - val_loss: 0.0966\n",
      "Epoch 5/40\n",
      "\u001b[1m933/933\u001b[0m \u001b[32m━━━━━━━━━━━━━━━━━━━━\u001b[0m\u001b[37m\u001b[0m \u001b[1m30s\u001b[0m 32ms/step - accuracy: 0.9897 - loss: 0.0197 - val_accuracy: 0.9660 - val_loss: 0.1010\n",
      "Epoch 6/40\n",
      "\u001b[1m933/933\u001b[0m \u001b[32m━━━━━━━━━━━━━━━━━━━━\u001b[0m\u001b[37m\u001b[0m \u001b[1m30s\u001b[0m 32ms/step - accuracy: 0.9905 - loss: 0.0200 - val_accuracy: 0.9649 - val_loss: 0.1053\n",
      "Epoch 7/40\n",
      "\u001b[1m933/933\u001b[0m \u001b[32m━━━━━━━━━━━━━━━━━━━━\u001b[0m\u001b[37m\u001b[0m \u001b[1m30s\u001b[0m 32ms/step - accuracy: 0.9896 - loss: 0.0197 - val_accuracy: 0.9643 - val_loss: 0.1157\n",
      "Epoch 8/40\n",
      "\u001b[1m933/933\u001b[0m \u001b[32m━━━━━━━━━━━━━━━━━━━━\u001b[0m\u001b[37m\u001b[0m \u001b[1m30s\u001b[0m 32ms/step - accuracy: 0.9897 - loss: 0.0183 - val_accuracy: 0.9622 - val_loss: 0.1311\n",
      "Epoch 9/40\n",
      "\u001b[1m933/933\u001b[0m \u001b[32m━━━━━━━━━━━━━━━━━━━━\u001b[0m\u001b[37m\u001b[0m \u001b[1m30s\u001b[0m 32ms/step - accuracy: 0.9901 - loss: 0.0210 - val_accuracy: 0.9651 - val_loss: 0.1275\n",
      "Epoch 10/40\n",
      "\u001b[1m933/933\u001b[0m \u001b[32m━━━━━━━━━━━━━━━━━━━━\u001b[0m\u001b[37m\u001b[0m \u001b[1m30s\u001b[0m 32ms/step - accuracy: 0.9896 - loss: 0.0191 - val_accuracy: 0.9641 - val_loss: 0.1290\n",
      "Epoch 11/40\n",
      "\u001b[1m933/933\u001b[0m \u001b[32m━━━━━━━━━━━━━━━━━━━━\u001b[0m\u001b[37m\u001b[0m \u001b[1m30s\u001b[0m 32ms/step - accuracy: 0.9890 - loss: 0.0196 - val_accuracy: 0.9643 - val_loss: 0.1359\n",
      "Epoch 12/40\n",
      "\u001b[1m933/933\u001b[0m \u001b[32m━━━━━━━━━━━━━━━━━━━━\u001b[0m\u001b[37m\u001b[0m \u001b[1m30s\u001b[0m 32ms/step - accuracy: 0.9901 - loss: 0.0190 - val_accuracy: 0.9638 - val_loss: 0.1333\n",
      "Epoch 13/40\n",
      "\u001b[1m933/933\u001b[0m \u001b[32m━━━━━━━━━━━━━━━━━━━━\u001b[0m\u001b[37m\u001b[0m \u001b[1m30s\u001b[0m 33ms/step - accuracy: 0.9896 - loss: 0.0191 - val_accuracy: 0.9643 - val_loss: 0.1384\n",
      "Epoch 14/40\n",
      "\u001b[1m933/933\u001b[0m \u001b[32m━━━━━━━━━━━━━━━━━━━━\u001b[0m\u001b[37m\u001b[0m \u001b[1m30s\u001b[0m 32ms/step - accuracy: 0.9901 - loss: 0.0204 - val_accuracy: 0.9595 - val_loss: 0.2090\n",
      "Epoch 15/40\n",
      "\u001b[1m933/933\u001b[0m \u001b[32m━━━━━━━━━━━━━━━━━━━━\u001b[0m\u001b[37m\u001b[0m \u001b[1m30s\u001b[0m 32ms/step - accuracy: 0.9890 - loss: 0.0227 - val_accuracy: 0.9592 - val_loss: 0.1825\n",
      "Epoch 16/40\n",
      "\u001b[1m933/933\u001b[0m \u001b[32m━━━━━━━━━━━━━━━━━━━━\u001b[0m\u001b[37m\u001b[0m \u001b[1m30s\u001b[0m 32ms/step - accuracy: 0.9899 - loss: 0.0202 - val_accuracy: 0.9617 - val_loss: 0.1815\n",
      "Epoch 17/40\n",
      "\u001b[1m933/933\u001b[0m \u001b[32m━━━━━━━━━━━━━━━━━━━━\u001b[0m\u001b[37m\u001b[0m \u001b[1m30s\u001b[0m 32ms/step - accuracy: 0.9910 - loss: 0.0180 - val_accuracy: 0.9630 - val_loss: 0.1780\n",
      "Epoch 18/40\n",
      "\u001b[1m933/933\u001b[0m \u001b[32m━━━━━━━━━━━━━━━━━━━━\u001b[0m\u001b[37m\u001b[0m \u001b[1m30s\u001b[0m 32ms/step - accuracy: 0.9904 - loss: 0.0178 - val_accuracy: 0.9638 - val_loss: 0.1780\n",
      "Epoch 19/40\n",
      "\u001b[1m933/933\u001b[0m \u001b[32m━━━━━━━━━━━━━━━━━━━━\u001b[0m\u001b[37m\u001b[0m \u001b[1m30s\u001b[0m 33ms/step - accuracy: 0.9881 - loss: 0.0207 - val_accuracy: 0.9614 - val_loss: 0.1809\n",
      "Epoch 20/40\n",
      "\u001b[1m933/933\u001b[0m \u001b[32m━━━━━━━━━━━━━━━━━━━━\u001b[0m\u001b[37m\u001b[0m \u001b[1m30s\u001b[0m 32ms/step - accuracy: 0.9898 - loss: 0.0192 - val_accuracy: 0.9627 - val_loss: 0.1805\n",
      "Epoch 21/40\n",
      "\u001b[1m933/933\u001b[0m \u001b[32m━━━━━━━━━━━━━━━━━━━━\u001b[0m\u001b[37m\u001b[0m \u001b[1m30s\u001b[0m 32ms/step - accuracy: 0.9908 - loss: 0.0185 - val_accuracy: 0.9625 - val_loss: 0.1806\n",
      "Epoch 22/40\n",
      "\u001b[1m933/933\u001b[0m \u001b[32m━━━━━━━━━━━━━━━━━━━━\u001b[0m\u001b[37m\u001b[0m \u001b[1m30s\u001b[0m 32ms/step - accuracy: 0.9893 - loss: 0.0197 - val_accuracy: 0.9614 - val_loss: 0.1845\n",
      "Epoch 23/40\n",
      "\u001b[1m933/933\u001b[0m \u001b[32m━━━━━━━━━━━━━━━━━━━━\u001b[0m\u001b[37m\u001b[0m \u001b[1m30s\u001b[0m 32ms/step - accuracy: 0.9894 - loss: 0.0189 - val_accuracy: 0.9622 - val_loss: 0.1880\n",
      "Epoch 24/40\n",
      "\u001b[1m933/933\u001b[0m \u001b[32m━━━━━━━━━━━━━━━━━━━━\u001b[0m\u001b[37m\u001b[0m \u001b[1m30s\u001b[0m 32ms/step - accuracy: 0.9899 - loss: 0.0192 - val_accuracy: 0.9625 - val_loss: 0.1847\n",
      "Epoch 25/40\n",
      "\u001b[1m933/933\u001b[0m \u001b[32m━━━━━━━━━━━━━━━━━━━━\u001b[0m\u001b[37m\u001b[0m \u001b[1m30s\u001b[0m 32ms/step - accuracy: 0.9901 - loss: 0.0180 - val_accuracy: 0.9619 - val_loss: 0.1767\n",
      "Epoch 26/40\n",
      "\u001b[1m933/933\u001b[0m \u001b[32m━━━━━━━━━━━━━━━━━━━━\u001b[0m\u001b[37m\u001b[0m \u001b[1m30s\u001b[0m 32ms/step - accuracy: 0.9884 - loss: 0.0210 - val_accuracy: 0.9627 - val_loss: 0.1869\n",
      "Epoch 27/40\n",
      "\u001b[1m933/933\u001b[0m \u001b[32m━━━━━━━━━━━━━━━━━━━━\u001b[0m\u001b[37m\u001b[0m \u001b[1m30s\u001b[0m 32ms/step - accuracy: 0.9896 - loss: 0.0187 - val_accuracy: 0.9625 - val_loss: 0.1864\n",
      "Epoch 28/40\n",
      "\u001b[1m933/933\u001b[0m \u001b[32m━━━━━━━━━━━━━━━━━━━━\u001b[0m\u001b[37m\u001b[0m \u001b[1m30s\u001b[0m 32ms/step - accuracy: 0.9902 - loss: 0.0184 - val_accuracy: 0.9619 - val_loss: 0.1882\n",
      "Epoch 29/40\n",
      "\u001b[1m933/933\u001b[0m \u001b[32m━━━━━━━━━━━━━━━━━━━━\u001b[0m\u001b[37m\u001b[0m \u001b[1m30s\u001b[0m 32ms/step - accuracy: 0.9902 - loss: 0.0183 - val_accuracy: 0.9622 - val_loss: 0.1905\n",
      "Epoch 30/40\n",
      "\u001b[1m933/933\u001b[0m \u001b[32m━━━━━━━━━━━━━━━━━━━━\u001b[0m\u001b[37m\u001b[0m \u001b[1m30s\u001b[0m 33ms/step - accuracy: 0.9899 - loss: 0.0191 - val_accuracy: 0.9606 - val_loss: 0.1825\n",
      "Epoch 31/40\n",
      "\u001b[1m933/933\u001b[0m \u001b[32m━━━━━━━━━━━━━━━━━━━━\u001b[0m\u001b[37m\u001b[0m \u001b[1m30s\u001b[0m 32ms/step - accuracy: 0.9895 - loss: 0.0197 - val_accuracy: 0.9617 - val_loss: 0.1884\n",
      "Epoch 32/40\n",
      "\u001b[1m933/933\u001b[0m \u001b[32m━━━━━━━━━━━━━━━━━━━━\u001b[0m\u001b[37m\u001b[0m \u001b[1m30s\u001b[0m 33ms/step - accuracy: 0.9893 - loss: 0.0195 - val_accuracy: 0.9627 - val_loss: 0.1872\n",
      "Epoch 33/40\n",
      "\u001b[1m933/933\u001b[0m \u001b[32m━━━━━━━━━━━━━━━━━━━━\u001b[0m\u001b[37m\u001b[0m \u001b[1m30s\u001b[0m 32ms/step - accuracy: 0.9904 - loss: 0.0193 - val_accuracy: 0.9635 - val_loss: 0.1872\n",
      "Epoch 34/40\n",
      "\u001b[1m933/933\u001b[0m \u001b[32m━━━━━━━━━━━━━━━━━━━━\u001b[0m\u001b[37m\u001b[0m \u001b[1m31s\u001b[0m 33ms/step - accuracy: 0.9906 - loss: 0.0178 - val_accuracy: 0.9641 - val_loss: 0.1896\n",
      "Epoch 35/40\n",
      "\u001b[1m933/933\u001b[0m \u001b[32m━━━━━━━━━━━━━━━━━━━━\u001b[0m\u001b[37m\u001b[0m \u001b[1m31s\u001b[0m 33ms/step - accuracy: 0.9898 - loss: 0.0190 - val_accuracy: 0.9633 - val_loss: 0.1978\n",
      "Epoch 36/40\n",
      "\u001b[1m933/933\u001b[0m \u001b[32m━━━━━━━━━━━━━━━━━━━━\u001b[0m\u001b[37m\u001b[0m \u001b[1m31s\u001b[0m 34ms/step - accuracy: 0.9906 - loss: 0.0179 - val_accuracy: 0.9630 - val_loss: 0.1953\n",
      "Epoch 37/40\n",
      "\u001b[1m933/933\u001b[0m \u001b[32m━━━━━━━━━━━━━━━━━━━━\u001b[0m\u001b[37m\u001b[0m \u001b[1m31s\u001b[0m 34ms/step - accuracy: 0.9910 - loss: 0.0183 - val_accuracy: 0.9633 - val_loss: 0.1954\n",
      "Epoch 38/40\n",
      "\u001b[1m933/933\u001b[0m \u001b[32m━━━━━━━━━━━━━━━━━━━━\u001b[0m\u001b[37m\u001b[0m \u001b[1m31s\u001b[0m 33ms/step - accuracy: 0.9889 - loss: 0.0209 - val_accuracy: 0.9638 - val_loss: 0.1969\n",
      "Epoch 39/40\n",
      "\u001b[1m933/933\u001b[0m \u001b[32m━━━━━━━━━━━━━━━━━━━━\u001b[0m\u001b[37m\u001b[0m \u001b[1m31s\u001b[0m 33ms/step - accuracy: 0.9901 - loss: 0.0186 - val_accuracy: 0.9635 - val_loss: 0.2009\n",
      "Epoch 40/40\n",
      "\u001b[1m933/933\u001b[0m \u001b[32m━━━━━━━━━━━━━━━━━━━━\u001b[0m\u001b[37m\u001b[0m \u001b[1m31s\u001b[0m 33ms/step - accuracy: 0.9907 - loss: 0.0181 - val_accuracy: 0.9630 - val_loss: 0.1815\n",
      "total time = 1217.2188777923584\n"
     ]
    }
   ],
   "source": [
    "start = time.time()\n",
    "historical  = model.fit(X_train,y_train, epochs=40, batch_size=16, validation_data=(X_test,y_test))\n",
    "end = time.time()\n",
    "print(f\"total time = {end - start}\")"
   ]
  },
  {
   "cell_type": "code",
   "execution_count": 51,
   "metadata": {},
   "outputs": [
    {
     "name": "stdout",
     "output_type": "stream",
     "text": [
      "\u001b[1m117/117\u001b[0m \u001b[32m━━━━━━━━━━━━━━━━━━━━\u001b[0m\u001b[37m\u001b[0m \u001b[1m0s\u001b[0m 2ms/step - accuracy: 0.9585 - loss: 0.2426\n",
      "Model Loss: 0.18150043487548828\n",
      "Model Accuracy: 96.30026817321777\n"
     ]
    }
   ],
   "source": [
    "results = model.evaluate(X_test, y_test)\n",
    "loss = results[0]  # Extract the loss from the results\n",
    "accuracy = results[1]  # Extract the accuracy from the results\n",
    "\n",
    "print(f\"Model Loss: {loss}\")\n",
    "print(f\"Model Accuracy: {accuracy*100}\")"
   ]
  },
  {
   "cell_type": "code",
   "execution_count": 52,
   "metadata": {},
   "outputs": [
    {
     "name": "stdout",
     "output_type": "stream",
     "text": [
      "\u001b[1m117/117\u001b[0m \u001b[32m━━━━━━━━━━━━━━━━━━━━\u001b[0m\u001b[37m\u001b[0m \u001b[1m0s\u001b[0m 2ms/step\n"
     ]
    }
   ],
   "source": [
    "y_pred_prob = model.predict(X_test)\n",
    "y_pred = (y_pred_prob > 0.5).astype(int)"
   ]
  },
  {
   "cell_type": "code",
   "execution_count": 53,
   "metadata": {},
   "outputs": [
    {
     "name": "stdout",
     "output_type": "stream",
     "text": [
      "f1-score = 0.9694825298540469\n",
      "precision = 0.9790084859312193\n",
      "recall = 0.9601401664476565\n",
      "accuracy = 0.9630026809651474\n",
      "balanced-accuracy = 0.9638295856426258\n",
      "MCC = 0.9228046948515948\n"
     ]
    }
   ],
   "source": [
    "get_metrics(y_true=y_test, y_pred=y_pred, y_prob=y_pred_prob)"
   ]
  },
  {
   "cell_type": "code",
   "execution_count": null,
   "metadata": {},
   "outputs": [],
   "source": [
    "#(V + 1) * 50 + 600400 + 101"
   ]
  }
 ],
 "metadata": {
  "kernelspec": {
   "display_name": "Python 3",
   "language": "python",
   "name": "python3"
  },
  "language_info": {
   "codemirror_mode": {
    "name": "ipython",
    "version": 3
   },
   "file_extension": ".py",
   "mimetype": "text/x-python",
   "name": "python",
   "nbconvert_exporter": "python",
   "pygments_lexer": "ipython3",
   "version": "3.10.0"
  }
 },
 "nbformat": 4,
 "nbformat_minor": 2
}
